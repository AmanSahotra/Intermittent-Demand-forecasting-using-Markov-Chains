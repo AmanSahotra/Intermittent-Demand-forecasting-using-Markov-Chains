{
 "cells": [
  {
   "cell_type": "markdown",
   "metadata": {},
   "source": [
    "# Markov Chains"
   ]
  },
  {
   "cell_type": "markdown",
   "metadata": {},
   "source": [
    "### Imagine that there are two possible states for weather: sunny or cloudy. \n",
    "You can always directly observe the current weather state, and it is guaranteed to always be one of the two aforementioned states.Now, you decide you want to be able to predict what the weather will be like tomorrow. Intuitively, you assume that there is an inherent transition in this process, in that the current weather has some bearing on what the next day’s weather will be. So you collect weather data over several years, and calculate that the chance of a sunny day occurring after a cloudy day is 0.25. You also note that, by extension, the chance of a cloudy day occurring after a cloudy day must be 0.75, since there are only two possible states.You can now use this distribution to predict weather for days to come, based on what the current weather state is at the time.\n",
    "\n",
    "\n",
    "This example illustrates many of the key concepts of a Markov chain.Markov chain is based on a principle of “memorylessness”.In other words the next state of the process only depends on the previous state and not the sequence of states.\n",
    "\n",
    "A Markov chain essentially consists of a set of transitions, which are determined by some probability distribution, that satisfy the Markov property."
   ]
  },
  {
   "cell_type": "markdown",
   "metadata": {},
   "source": [
    "<img src = \"img.jpg\">"
   ]
  },
  {
   "cell_type": "markdown",
   "metadata": {},
   "source": [
    "## An example of Markov Chains\n",
    "\n",
    "Coke and Pepsi are the only companies in country X. A soda company wants to tie up with one of these competitor. They hire a market research company to find which of the brand will have a higher market share after 1 month.\n",
    "\n",
    "Currently, Pepsi owns 55% and Coke owns 45% of market share. Following are the conclusions drawn out by the market research company:\n",
    "\n",
    "\n",
    "\n",
    "P(P->P) : Probability of a customer staying with the brand Pepsi over a month = 0.7\n",
    "\n",
    "P(P->C) : Probability of a customer switching from Pepsi to Coke over a month = 0.3\n",
    "\n",
    "P(C->C) : Probability of a customer staying with the brand Coke over a month = 0.9\n",
    "\n",
    "P(C->P) : Probability of a customer switching from Coke to Pepsi over a month = 0.1\n",
    "\n",
    "The four statements made by the research company can be structured in a simple transition diagram.\n"
   ]
  },
  {
   "cell_type": "markdown",
   "metadata": {},
   "source": [
    "<img src = img5.jpg>\n",
    "The diagram simply shows the transitions and the current market share. Now, if we want to calculate the market share after a month, we need to do following calculations :\n",
    "\n",
    "Market share (t+1) of Pepsi = Current market Share of Pepsi * P(P->P) + Current market Share of Coke * P(C->P)\n",
    "\n",
    "Market share (t+1) of Coke = Current market Share of Coke * P(C->C) + Current market Share of Pepsi * P(P->C)\n",
    "\n",
    "These calculations can be simply done by looking at the following matrix multiplication :\n",
    "\n",
    "Current State X Transition Matrix = Final State\n",
    "\n",
    "<img src = img6.jpg>"
   ]
  },
  {
   "cell_type": "markdown",
   "metadata": {},
   "source": [
    "## The Model\n",
    "\n",
    "Formally, a Markov chain is a probabilistic automation.\n",
    "The probability distribution of state transitions is typically represented as the Markov chain’s transition matrix.\n",
    "\n",
    "If the Markov chain has N possible states, the matrix will be an N x N matrix, such that entry (I, J) is the probability of transitioning from state I to state J.\n",
    "\n",
    "Additionally, the transition matrix must be a stochastic matrix, a matrix whose entries in each row must add up to exactly 1. This makes complete sense, since each row represents its own probability distribution."
   ]
  },
  {
   "cell_type": "markdown",
   "metadata": {},
   "source": [
    "<img src = \"img2.jpg\">\n",
    "<img src = \"img3.jpg\">"
   ]
  },
  {
   "cell_type": "markdown",
   "metadata": {},
   "source": [
    "#### Additionally, a Markov chain also has an initial state vector, represented as an N x 1 matrix (a vector), that describes the probability distribution of starting at each of the N possible states. Entry I of the vector describes the probability of the chain beginning at state I."
   ]
  },
  {
   "cell_type": "markdown",
   "metadata": {},
   "source": [
    "<img src = \"img4.jpg\">\n",
    "\n",
    "\n"
   ]
  },
  {
   "cell_type": "markdown",
   "metadata": {},
   "source": [
    "\n",
    "\n",
    "# Quarterly Sales Forecasting of a product using Markov Chains"
   ]
  },
  {
   "cell_type": "markdown",
   "metadata": {},
   "source": [
    "#### Below code is based on forecasting using Markov chains in which I am using data as follows:\n",
    " Training data :\n",
    "  Oct'13-Dec'13, Oct'14-Dec'14, Oct'15-Dec'15, Oct'16-Dec'16.\n",
    "  \n",
    "  \n",
    " Prediction is done for sales from Oct'17-Dec'17"
   ]
  },
  {
   "cell_type": "code",
   "execution_count": 10,
   "metadata": {},
   "outputs": [],
   "source": [
    "import numpy as np\n",
    "import pandas as pd\n",
    "import matplotlib.pylab as plt"
   ]
  },
  {
   "cell_type": "code",
   "execution_count": 11,
   "metadata": {},
   "outputs": [],
   "source": [
    "data = pd.read_csv('intermittent data.csv')"
   ]
  },
  {
   "cell_type": "code",
   "execution_count": 12,
   "metadata": {},
   "outputs": [],
   "source": [
    "dateparse = lambda dates: pd.datetime.strptime(dates, '%Y-%m-%d')\n",
    "data = pd.read_csv('intermittent data.csv', parse_dates=['date'], index_col='date',date_parser=dateparse)"
   ]
  },
  {
   "cell_type": "code",
   "execution_count": 13,
   "metadata": {},
   "outputs": [
    {
     "data": {
      "text/plain": [
       "DatetimeIndex(['2013-01-01', '2013-01-02', '2013-01-03', '2013-01-04',\n",
       "               '2013-01-05', '2013-01-06', '2013-01-07', '2013-01-08',\n",
       "               '2013-01-09', '2013-01-10',\n",
       "               ...\n",
       "               '2017-12-22', '2017-12-23', '2017-12-24', '2017-12-25',\n",
       "               '2017-12-26', '2017-12-27', '2017-12-28', '2017-12-29',\n",
       "               '2017-12-30', '2017-12-31'],\n",
       "              dtype='datetime64[ns]', name='date', length=1826, freq=None)"
      ]
     },
     "execution_count": 13,
     "metadata": {},
     "output_type": "execute_result"
    }
   ],
   "source": [
    "data.index"
   ]
  },
  {
   "cell_type": "code",
   "execution_count": 14,
   "metadata": {},
   "outputs": [],
   "source": [
    "ts = data['sales']"
   ]
  },
  {
   "cell_type": "code",
   "execution_count": 15,
   "metadata": {},
   "outputs": [
    {
     "data": {
      "text/plain": [
       "[<matplotlib.lines.Line2D at 0x168a4072f98>]"
      ]
     },
     "execution_count": 15,
     "metadata": {},
     "output_type": "execute_result"
    },
    {
     "data": {
      "image/png": "[encoded data removed]",
      "text/plain": [
       "<Figure size 1440x720 with 1 Axes>"
      ]
     },
     "metadata": {
      "needs_background": "light"
     },
     "output_type": "display_data"
    }
   ],
   "source": [
    "plt.figure(figsize=(20,10))\n",
    "plt.plot(ts)"
   ]
  },
  {
   "cell_type": "markdown",
   "metadata": {},
   "source": [
    "## Above TimeSeries clearly depicts the trend and seasonality in the data"
   ]
  },
  {
   "cell_type": "code",
   "execution_count": 16,
   "metadata": {},
   "outputs": [],
   "source": [
    "test_data = data.loc['2017-10-1':'2017-12-31'].copy()"
   ]
  },
  {
   "cell_type": "markdown",
   "metadata": {},
   "source": [
    "#### The results obtained for the years '14,'15 and '16 are already stored in arrays, so now I am using '13 as my training data. The code is dynamic in a way as we can use any quarter in the train_data, predict it and save it."
   ]
  },
  {
   "cell_type": "code",
   "execution_count": 17,
   "metadata": {},
   "outputs": [],
   "source": [
    "train_data = data.loc['2013-10-1':'2013-12-31'].copy()"
   ]
  },
  {
   "cell_type": "code",
   "execution_count": 18,
   "metadata": {},
   "outputs": [
    {
     "data": {
      "text/html": [
       "<div>\n",
       "<style scoped>\n",
       "    .dataframe tbody tr th:only-of-type {\n",
       "        vertical-align: middle;\n",
       "    }\n",
       "\n",
       "    .dataframe tbody tr th {\n",
       "        vertical-align: top;\n",
       "    }\n",
       "\n",
       "    .dataframe thead th {\n",
       "        text-align: right;\n",
       "    }\n",
       "</style>\n",
       "<table border=\"1\" class=\"dataframe\">\n",
       "  <thead>\n",
       "    <tr style=\"text-align: right;\">\n",
       "      <th></th>\n",
       "      <th>sales</th>\n",
       "    </tr>\n",
       "    <tr>\n",
       "      <th>date</th>\n",
       "      <th></th>\n",
       "    </tr>\n",
       "  </thead>\n",
       "  <tbody>\n",
       "    <tr>\n",
       "      <th>2013-10-01</th>\n",
       "      <td>18</td>\n",
       "    </tr>\n",
       "    <tr>\n",
       "      <th>2013-10-02</th>\n",
       "      <td>20</td>\n",
       "    </tr>\n",
       "    <tr>\n",
       "      <th>2013-10-03</th>\n",
       "      <td>22</td>\n",
       "    </tr>\n",
       "    <tr>\n",
       "      <th>2013-10-04</th>\n",
       "      <td>26</td>\n",
       "    </tr>\n",
       "    <tr>\n",
       "      <th>2013-10-05</th>\n",
       "      <td>0</td>\n",
       "    </tr>\n",
       "    <tr>\n",
       "      <th>2013-10-06</th>\n",
       "      <td>31</td>\n",
       "    </tr>\n",
       "    <tr>\n",
       "      <th>2013-10-07</th>\n",
       "      <td>25</td>\n",
       "    </tr>\n",
       "    <tr>\n",
       "      <th>2013-10-08</th>\n",
       "      <td>16</td>\n",
       "    </tr>\n",
       "    <tr>\n",
       "      <th>2013-10-09</th>\n",
       "      <td>20</td>\n",
       "    </tr>\n",
       "    <tr>\n",
       "      <th>2013-10-10</th>\n",
       "      <td>0</td>\n",
       "    </tr>\n",
       "  </tbody>\n",
       "</table>\n",
       "</div>"
      ],
      "text/plain": [
       "            sales\n",
       "date             \n",
       "2013-10-01     18\n",
       "2013-10-02     20\n",
       "2013-10-03     22\n",
       "2013-10-04     26\n",
       "2013-10-05      0\n",
       "2013-10-06     31\n",
       "2013-10-07     25\n",
       "2013-10-08     16\n",
       "2013-10-09     20\n",
       "2013-10-10      0"
      ]
     },
     "execution_count": 18,
     "metadata": {},
     "output_type": "execute_result"
    }
   ],
   "source": [
    "train_data.head(10)"
   ]
  },
  {
   "cell_type": "markdown",
   "metadata": {},
   "source": [
    "# Modified Markov Chain Model is as follows:"
   ]
  },
  {
   "cell_type": "markdown",
   "metadata": {},
   "source": [
    "<img src=\"capture.jpg\">"
   ]
  },
  {
   "cell_type": "markdown",
   "metadata": {},
   "source": [
    "#### The above formula is used for predictions. Lambda(s) mentioned in the formula can be estimated by a Linear Programming model. But most models were giving discrete values of Lambda such that only 1 of them was One and others were Zero.\n",
    "#### Alternatively, I assigned value of Lambda from the PACF plot which depicts the dependency on previous 7 days."
   ]
  },
  {
   "cell_type": "code",
   "execution_count": 19,
   "metadata": {},
   "outputs": [],
   "source": [
    "def plotac_pac(ts):\n",
    "    import statsmodels.api as sm\n",
    "    plt.figure(figsize=(20,5))\n",
    "    sm.graphics.tsa.plot_acf(ts, lags=7)\n",
    "    plt.show()\n",
    "    sm.graphics.tsa.plot_pacf(ts,lags=7)\n",
    "    plt.show() "
   ]
  },
  {
   "cell_type": "code",
   "execution_count": 20,
   "metadata": {},
   "outputs": [
    {
     "data": {
      "text/plain": [
       "<Figure size 1440x360 with 0 Axes>"
      ]
     },
     "metadata": {},
     "output_type": "display_data"
    },
    {
     "data": {
      "image/png": "[encoded data removed]",
      "text/plain": [
       "<Figure size 432x288 with 1 Axes>"
      ]
     },
     "metadata": {
      "needs_background": "light"
     },
     "output_type": "display_data"
    },
    {
     "data": {
      "image/png": "[encoded data removed]",
      "text/plain": [
       "<Figure size 432x288 with 1 Axes>"
      ]
     },
     "metadata": {
      "needs_background": "light"
     },
     "output_type": "display_data"
    }
   ],
   "source": [
    "plotac_pac(train_data)"
   ]
  },
  {
   "cell_type": "code",
   "execution_count": 21,
   "metadata": {},
   "outputs": [],
   "source": [
    "import statsmodels.api as sm"
   ]
  },
  {
   "cell_type": "code",
   "execution_count": 22,
   "metadata": {},
   "outputs": [],
   "source": [
    "temp = sm.tsa.stattools.pacf(train_data)"
   ]
  },
  {
   "cell_type": "code",
   "execution_count": 23,
   "metadata": {},
   "outputs": [
    {
     "data": {
      "text/plain": [
       "array([ 1.00000000e+00,  9.18530352e-02,  1.13738193e-01,  2.03255913e-01,\n",
       "        4.57560828e-02,  1.46255101e-01,  3.57961742e-02,  2.09623528e-01,\n",
       "        1.00674330e-01,  9.02195583e-02, -2.53512711e-01,  6.86300613e-02,\n",
       "       -2.70410228e-02,  2.81209039e-02, -3.21706596e-02, -1.42460119e-01,\n",
       "        2.29785428e-01, -8.42181644e-02, -7.93018156e-02,  5.37585486e-02,\n",
       "        2.84013679e-02,  6.25569848e-02,  9.74797548e-02, -1.01289101e-01,\n",
       "       -1.83843572e-02, -4.21164783e-03,  5.79001790e-03,  9.96891696e-02,\n",
       "        2.27231185e-04, -3.02443134e-01,  9.75542765e-02, -2.72375893e-01,\n",
       "       -1.89882775e-01,  1.00234960e-01, -2.44032893e-02,  9.77809506e-02,\n",
       "        4.91061009e-02, -1.39588802e-01, -2.07813232e-02, -4.80876340e-02,\n",
       "       -6.30131839e-02])"
      ]
     },
     "execution_count": 23,
     "metadata": {},
     "output_type": "execute_result"
    }
   ],
   "source": [
    "temp"
   ]
  },
  {
   "cell_type": "code",
   "execution_count": 24,
   "metadata": {},
   "outputs": [],
   "source": [
    "weights = np.zeros(7)\n",
    "for i in range(7):\n",
    "    weights[i] = temp[i+1]"
   ]
  },
  {
   "cell_type": "markdown",
   "metadata": {},
   "source": [
    "#### So from the PACF plot we can get the weights and these are as follows:"
   ]
  },
  {
   "cell_type": "code",
   "execution_count": 25,
   "metadata": {},
   "outputs": [
    {
     "data": {
      "text/plain": [
       "array([0.09185304, 0.11373819, 0.20325591, 0.04575608, 0.1462551 ,\n",
       "       0.03579617, 0.20962353])"
      ]
     },
     "execution_count": 25,
     "metadata": {},
     "output_type": "execute_result"
    }
   ],
   "source": [
    "weights"
   ]
  },
  {
   "cell_type": "markdown",
   "metadata": {},
   "source": [
    "#### Normalizing the weights such that their sum is equal to 1 as required in the Markov chains model:"
   ]
  },
  {
   "cell_type": "code",
   "execution_count": 26,
   "metadata": {},
   "outputs": [],
   "source": [
    "weights = weights/weights.sum()"
   ]
  },
  {
   "cell_type": "code",
   "execution_count": 27,
   "metadata": {},
   "outputs": [
    {
     "data": {
      "text/plain": [
       "array([0.10853766, 0.13439814, 0.24017629, 0.05406744, 0.17282157,\n",
       "       0.04229836, 0.24770054])"
      ]
     },
     "execution_count": 27,
     "metadata": {},
     "output_type": "execute_result"
    }
   ],
   "source": [
    "weights"
   ]
  },
  {
   "cell_type": "code",
   "execution_count": 28,
   "metadata": {},
   "outputs": [
    {
     "data": {
      "text/plain": [
       "(1826, 1)"
      ]
     },
     "execution_count": 28,
     "metadata": {},
     "output_type": "execute_result"
    }
   ],
   "source": [
    "data.shape"
   ]
  },
  {
   "cell_type": "markdown",
   "metadata": {},
   "source": [
    "### Creating 6 different states for sales such as:\n",
    "#### values ----- states\n",
    "\n",
    "0----------------0\n",
    "\n",
    "15 to 22-------1\n",
    "\n",
    "23 to 27-------2\n",
    "\n",
    "28 to 32-------3\n",
    "\n",
    "33 to 37-------4\n",
    "\n",
    "38 to 47-------5\n",
    "\n",
    "**minmum value of sales is 15 and if there's no demand then it is 0."
   ]
  },
  {
   "cell_type": "code",
   "execution_count": 29,
   "metadata": {},
   "outputs": [],
   "source": [
    "arr = np.zeros(1826)\n",
    "j=0\n",
    "for (i,j) in zip (data['sales'],range(1826)):\n",
    "    if (i>=15 and i<=22):\n",
    "        arr[j]=1\n",
    "    elif(i>=23 and i<=27):\n",
    "        arr[j]=2\n",
    "    elif(i>=28 and i<=32):\n",
    "        arr[j]=3\n",
    "    elif(i>=33 and i<=37):\n",
    "        arr[j]=4\n",
    "    elif(i>=38):\n",
    "        arr[j]=5\n",
    "arr = arr.astype(int)"
   ]
  },
  {
   "cell_type": "code",
   "execution_count": 30,
   "metadata": {},
   "outputs": [],
   "source": [
    "unique_elements, counts_elements = np.unique(arr, return_counts=True)"
   ]
  },
  {
   "cell_type": "code",
   "execution_count": 31,
   "metadata": {},
   "outputs": [
    {
     "name": "stdout",
     "output_type": "stream",
     "text": [
      "[0 1 2 3 4 5]\n"
     ]
    }
   ],
   "source": [
    "print(unique_elements)"
   ]
  },
  {
   "cell_type": "code",
   "execution_count": 32,
   "metadata": {},
   "outputs": [
    {
     "name": "stdout",
     "output_type": "stream",
     "text": [
      "[195 547 429 350 179 126]\n"
     ]
    }
   ],
   "source": [
    "print(counts_elements)"
   ]
  },
  {
   "cell_type": "code",
   "execution_count": 33,
   "metadata": {},
   "outputs": [
    {
     "name": "stdout",
     "output_type": "stream",
     "text": [
      "[1 0 0 ... 1 3 1]\n"
     ]
    }
   ],
   "source": [
    "print(arr)"
   ]
  },
  {
   "cell_type": "code",
   "execution_count": 34,
   "metadata": {},
   "outputs": [],
   "source": [
    "data['sales']=arr"
   ]
  },
  {
   "cell_type": "code",
   "execution_count": 35,
   "metadata": {},
   "outputs": [],
   "source": [
    "train_data = data.loc['2013-10-1':'2013-12-31'].copy()"
   ]
  },
  {
   "cell_type": "code",
   "execution_count": 36,
   "metadata": {},
   "outputs": [],
   "source": [
    "unique_elements, counts_elements = np.unique(train_data['sales'], return_counts=True)"
   ]
  },
  {
   "cell_type": "code",
   "execution_count": 37,
   "metadata": {},
   "outputs": [
    {
     "data": {
      "text/plain": [
       "array([0, 1, 2, 3, 4])"
      ]
     },
     "execution_count": 37,
     "metadata": {},
     "output_type": "execute_result"
    }
   ],
   "source": [
    "unique_elements"
   ]
  },
  {
   "cell_type": "code",
   "execution_count": 38,
   "metadata": {},
   "outputs": [
    {
     "data": {
      "text/plain": [
       "array([27, 40, 14,  7,  4], dtype=int64)"
      ]
     },
     "execution_count": 38,
     "metadata": {},
     "output_type": "execute_result"
    }
   ],
   "source": [
    "counts_elements"
   ]
  },
  {
   "cell_type": "markdown",
   "metadata": {},
   "source": [
    "### Now Defining the State Transition Matrix:\n",
    "\n",
    "1 State transition probability matrix represents the probability of transition from one state to another without any gap i.e. the probability of states for the next day.\n",
    "\n",
    "2 State transition probability matrix represents the probability of transition from one state to another with a gap of 1 day i.e. the probability of states for day after tomorrow.\n",
    "\n",
    "\n",
    "..\n",
    "\n",
    "..\n",
    "\n",
    "and so on"
   ]
  },
  {
   "cell_type": "code",
   "execution_count": 39,
   "metadata": {},
   "outputs": [],
   "source": [
    "def state_transition_matrix(transitions,state):\n",
    "    n=6\n",
    "    M = [[0]*n for _ in range(n)]\n",
    "    for (i,j) in zip(transitions,transitions[state:]):\n",
    "        M[i][j] += 1\n",
    "\n",
    "    for row in M:\n",
    "        s = sum(row)\n",
    "        if s > 0:\n",
    "            row[:] = [f/s for f in row]\n",
    "    return M"
   ]
  },
  {
   "cell_type": "markdown",
   "metadata": {},
   "source": [
    "#### 1 state transition probability matrix"
   ]
  },
  {
   "cell_type": "code",
   "execution_count": 40,
   "metadata": {},
   "outputs": [
    {
     "name": "stdout",
     "output_type": "stream",
     "text": [
      "0.38 0.35 0.15 0.12 0.00 0.00\n",
      "0.28 0.38 0.17 0.10 0.07 0.00\n",
      "0.29 0.64 0.07 0.00 0.00 0.00\n",
      "0.14 0.57 0.14 0.00 0.14 0.00\n",
      "0.25 0.50 0.25 0.00 0.00 0.00\n",
      "0.00 0.00 0.00 0.00 0.00 0.00\n"
     ]
    }
   ],
   "source": [
    "q1 = state_transition_matrix(train_data['sales'],1)\n",
    "for row in q1: print(' '.join('{0:.2f}'.format(x) for x in row))"
   ]
  },
  {
   "cell_type": "markdown",
   "metadata": {},
   "source": [
    "#### 2 state transition probability matrix"
   ]
  },
  {
   "cell_type": "code",
   "execution_count": 41,
   "metadata": {},
   "outputs": [
    {
     "name": "stdout",
     "output_type": "stream",
     "text": [
      "0.24 0.52 0.16 0.08 0.00 0.00\n",
      "0.45 0.30 0.17 0.03 0.05 0.00\n",
      "0.21 0.36 0.21 0.21 0.00 0.00\n",
      "0.00 0.71 0.00 0.14 0.14 0.00\n",
      "0.00 0.75 0.00 0.00 0.25 0.00\n",
      "0.00 0.00 0.00 0.00 0.00 0.00\n"
     ]
    }
   ],
   "source": [
    "q2 = state_transition_matrix(train_data['sales'],2)\n",
    "for row in q2: print(' '.join('{0:.2f}'.format(x) for x in row))"
   ]
  },
  {
   "cell_type": "markdown",
   "metadata": {},
   "source": [
    "#### 3 state transition probability matrix"
   ]
  },
  {
   "cell_type": "code",
   "execution_count": 42,
   "metadata": {},
   "outputs": [
    {
     "name": "stdout",
     "output_type": "stream",
     "text": [
      "0.40 0.44 0.08 0.08 0.00 0.00\n",
      "0.36 0.36 0.21 0.05 0.03 0.00\n",
      "0.14 0.36 0.21 0.14 0.14 0.00\n",
      "0.00 0.71 0.00 0.14 0.14 0.00\n",
      "0.25 0.50 0.25 0.00 0.00 0.00\n",
      "0.00 0.00 0.00 0.00 0.00 0.00\n"
     ]
    }
   ],
   "source": [
    "q3 = state_transition_matrix(train_data['sales'],3)\n",
    "for row in q3: print(' '.join('{0:.2f}'.format(x) for x in row))"
   ]
  },
  {
   "cell_type": "markdown",
   "metadata": {},
   "source": [
    "#### 4 state transition probability matrix"
   ]
  },
  {
   "cell_type": "code",
   "execution_count": 43,
   "metadata": {},
   "outputs": [
    {
     "name": "stdout",
     "output_type": "stream",
     "text": [
      "0.40 0.40 0.08 0.04 0.08 0.00\n",
      "0.24 0.39 0.18 0.16 0.03 0.00\n",
      "0.36 0.57 0.07 0.00 0.00 0.00\n",
      "0.14 0.43 0.43 0.00 0.00 0.00\n",
      "0.50 0.25 0.00 0.00 0.25 0.00\n",
      "0.00 0.00 0.00 0.00 0.00 0.00\n"
     ]
    }
   ],
   "source": [
    "q4 = state_transition_matrix(train_data['sales'],4)\n",
    "for row in q4: print(' '.join('{0:.2f}'.format(x) for x in row))"
   ]
  },
  {
   "cell_type": "markdown",
   "metadata": {},
   "source": [
    "#### 5 state transition probability matrix"
   ]
  },
  {
   "cell_type": "code",
   "execution_count": 44,
   "metadata": {},
   "outputs": [
    {
     "name": "stdout",
     "output_type": "stream",
     "text": [
      "0.40 0.44 0.16 0.00 0.00 0.00\n",
      "0.27 0.46 0.14 0.08 0.05 0.00\n",
      "0.14 0.36 0.21 0.21 0.07 0.00\n",
      "0.29 0.43 0.14 0.00 0.14 0.00\n",
      "0.50 0.25 0.00 0.25 0.00 0.00\n",
      "0.00 0.00 0.00 0.00 0.00 0.00\n"
     ]
    }
   ],
   "source": [
    "q5 = state_transition_matrix(train_data['sales'],5)\n",
    "for row in q5: print(' '.join('{0:.2f}'.format(x) for x in row))"
   ]
  },
  {
   "cell_type": "markdown",
   "metadata": {},
   "source": [
    "#### 6 state transition probability matrix"
   ]
  },
  {
   "cell_type": "code",
   "execution_count": 45,
   "metadata": {},
   "outputs": [
    {
     "name": "stdout",
     "output_type": "stream",
     "text": [
      "0.29 0.54 0.08 0.04 0.04 0.00\n",
      "0.38 0.30 0.19 0.11 0.03 0.00\n",
      "0.21 0.57 0.07 0.07 0.07 0.00\n",
      "0.14 0.43 0.43 0.00 0.00 0.00\n",
      "0.25 0.50 0.00 0.00 0.25 0.00\n",
      "0.00 0.00 0.00 0.00 0.00 0.00\n"
     ]
    }
   ],
   "source": [
    "q6 = state_transition_matrix(train_data['sales'],6)\n",
    "for row in q6: print(' '.join('{0:.2f}'.format(x) for x in row))"
   ]
  },
  {
   "cell_type": "markdown",
   "metadata": {},
   "source": [
    "#### 7 state transition probability matrix"
   ]
  },
  {
   "cell_type": "code",
   "execution_count": 46,
   "metadata": {},
   "outputs": [
    {
     "name": "stdout",
     "output_type": "stream",
     "text": [
      "0.46 0.25 0.25 0.00 0.04 0.00\n",
      "0.30 0.54 0.11 0.03 0.03 0.00\n",
      "0.15 0.46 0.15 0.15 0.08 0.00\n",
      "0.14 0.43 0.00 0.29 0.14 0.00\n",
      "0.25 0.50 0.00 0.25 0.00 0.00\n",
      "0.00 0.00 0.00 0.00 0.00 0.00\n"
     ]
    }
   ],
   "source": [
    "q7 = state_transition_matrix(train_data['sales'],7)\n",
    "for row in q7: print(' '.join('{0:.2f}'.format(x) for x in row))"
   ]
  },
  {
   "cell_type": "code",
   "execution_count": 47,
   "metadata": {},
   "outputs": [
    {
     "name": "stderr",
     "output_type": "stream",
     "text": [
      "C:\\Users\\amansahotra\\AppData\\Local\\Continuum\\anaconda3\\lib\\site-packages\\ipykernel_launcher.py:1: FutureWarning: Method .as_matrix will be removed in a future version. Use .values instead.\n",
      "  \"\"\"Entry point for launching an IPython kernel.\n"
     ]
    }
   ],
   "source": [
    "lastweek = data['sales'].loc['2017-09-30':'2017-10-06'].as_matrix()   "
   ]
  },
  {
   "cell_type": "code",
   "execution_count": 48,
   "metadata": {},
   "outputs": [
    {
     "data": {
      "text/plain": [
       "array([3, 5, 1, 1, 3, 3, 2])"
      ]
     },
     "execution_count": 48,
     "metadata": {},
     "output_type": "execute_result"
    }
   ],
   "source": [
    "lastweek"
   ]
  },
  {
   "cell_type": "code",
   "execution_count": 49,
   "metadata": {},
   "outputs": [],
   "source": [
    "hidden_data = data.loc['2017-10-7':'2017-12-31'].copy()"
   ]
  },
  {
   "cell_type": "markdown",
   "metadata": {},
   "source": [
    "#### Using Lambdas ( weights) and the previous sales of 7 days, the prediction is done for the 8th day. Once we get that  we remove the 1st day and add the correct 8th day (now the last week is from day-2 to day-8) to predict the 9th day and so on. Hence a \"Window\" is maintained containing the last week to predict the next day."
   ]
  },
  {
   "cell_type": "code",
   "execution_count": 50,
   "metadata": {},
   "outputs": [],
   "source": [
    "predicted_state  = np.zeros(85)\n",
    "for i in range (85):\n",
    "    lastweek = np.delete(lastweek,0)\n",
    "    lastweek = np.append(lastweek,[hidden_data['sales'][i]])\n",
    "    states = np.zeros((7,6))\n",
    "    x1 = []\n",
    "    x2 = []\n",
    "    x3 = []\n",
    "    x4 = []\n",
    "    x5 = []\n",
    "    x6 = []\n",
    "    x7 = []\n",
    "    for j in range(7):\n",
    "        states[j][lastweek[j]]=1\n",
    "        \n",
    "    x1 = states[0]\n",
    "    x1 = np.reshape(x1,(6,1))\n",
    "    x2 = states[1]\n",
    "    x2 = np.reshape(x2,(6,1))\n",
    "    x3 = states[2]\n",
    "    x3 = np.reshape(x3,(6,1))\n",
    "    x4 = states[3]\n",
    "    x4 = np.reshape(x4,(6,1))\n",
    "    x5 = states[4]\n",
    "    x5 = np.reshape(x5,(6,1))\n",
    "    x6 = states[5]\n",
    "    x6 = np.reshape(x6,(6,1))\n",
    "    x7 = states[6]\n",
    "    x7 = np.reshape(x7,(6,1))\n",
    "    nextstate = []\n",
    "    #nextstate = weights[0]*np.matmul(q1,x7)+weights[1]*np.matmul(q2,x6)+weights[2]*np.matmul(q3,x5)+weights[3]*np.matmul(q4,x4)+weights[4]*np.matmul(q5,x3)+weights[5]*np.matmul(q6,x2)+weights[6]*np.matmul(q7,x1)\n",
    "    nextstate = 0*np.matmul(q1,x7)+weights[1]*np.matmul(q2,x6)+0*np.matmul(q3,x5)+0*np.matmul(q4,x4)+0*np.matmul(q5,x3)+weights[5]*np.matmul(q6,x2)+0*np.matmul(q7,x1)\n",
    "    # 0 in the above formula can be replaced by the significant weights which are above the prediction interval in the PACF plot.\n",
    "    max1 = np.amax(nextstate)\n",
    "    maxindex = np.argmax(nextstate)\n",
    "    predicted_state[i] =  maxindex\n",
    "    "
   ]
  },
  {
   "cell_type": "code",
   "execution_count": 51,
   "metadata": {},
   "outputs": [
    {
     "name": "stdout",
     "output_type": "stream",
     "text": [
      "[25 25 19 25 30 25 25 30 25 25 30 25 35 25 25 30 25 25 25 25 35 30 35 30\n",
      " 25 25 25 25 25 30 30 35 25 25 35 25 30 25 25 25 35 25 30 30 35 30 25 25\n",
      " 25 25 25 30 25 25 25 25 30 30 25 30 35 25 30 25 25 25 35 30 25 25 35 25\n",
      " 30 35 35 25 25 35 25 25 19 35 30 30 35]\n"
     ]
    }
   ],
   "source": [
    "predicted_state = predicted_state.astype(int)\n",
    "for i in range(85):\n",
    "    if(predicted_state[i]==0):\n",
    "        predicted_state[i] = 0\n",
    "    elif(predicted_state[i]==1):\n",
    "        predicted_state[i]=19\n",
    "    elif(predicted_state[i]==2):\n",
    "        predicted_state[i]=25\n",
    "    elif(predicted_state[i]==3):\n",
    "        predicted_state[i]=30\n",
    "    elif(predicted_state[i]==4):\n",
    "        predicted_state[i]=35\n",
    "    elif(predicted_state[i]==5):\n",
    "        predicted_state[i]=43\n",
    "print(predicted_state)"
   ]
  },
  {
   "cell_type": "code",
   "execution_count": 52,
   "metadata": {},
   "outputs": [
    {
     "name": "stderr",
     "output_type": "stream",
     "text": [
      "C:\\Users\\amansahotra\\AppData\\Local\\Continuum\\anaconda3\\lib\\site-packages\\ipykernel_launcher.py:1: FutureWarning: Method .as_matrix will be removed in a future version. Use .values instead.\n",
      "  \"\"\"Entry point for launching an IPython kernel.\n"
     ]
    }
   ],
   "source": [
    "test_data = test_data['sales'].loc['2017-10-08':'2017-12-31'].as_matrix()"
   ]
  },
  {
   "cell_type": "code",
   "execution_count": 53,
   "metadata": {},
   "outputs": [
    {
     "data": {
      "text/plain": [
       "array([46, 25, 20, 26, 27, 29, 31, 23, 19, 27, 20, 27, 30, 36, 44, 24, 28,\n",
       "       23, 22, 30, 34, 39, 29, 26, 24, 29, 32, 41, 32, 22, 27, 31, 33, 23,\n",
       "       34, 27, 24, 26, 33, 27, 34, 30, 34, 33, 32, 27, 23, 31, 29, 30, 27,\n",
       "       24, 32, 27, 19, 31, 26, 17, 21, 28, 17, 26, 29, 28, 19, 18, 26, 31,\n",
       "       20, 32, 19, 21, 19, 24, 29, 22, 27, 27,  0, 16, 16, 17, 21, 31, 19],\n",
       "      dtype=int64)"
      ]
     },
     "execution_count": 53,
     "metadata": {},
     "output_type": "execute_result"
    }
   ],
   "source": [
    "test_data"
   ]
  },
  {
   "cell_type": "code",
   "execution_count": 54,
   "metadata": {},
   "outputs": [
    {
     "data": {
      "text/plain": [
       "array([25, 25, 19, 25, 30, 25, 25, 30, 25, 25, 30, 25, 35, 25, 25, 30, 25,\n",
       "       25, 25, 25, 35, 30, 35, 30, 25, 25, 25, 25, 25, 30, 30, 35, 25, 25,\n",
       "       35, 25, 30, 25, 25, 25, 35, 25, 30, 30, 35, 30, 25, 25, 25, 25, 25,\n",
       "       30, 25, 25, 25, 25, 30, 30, 25, 30, 35, 25, 30, 25, 25, 25, 35, 30,\n",
       "       25, 25, 35, 25, 30, 35, 35, 25, 25, 35, 25, 25, 19, 35, 30, 30, 35])"
      ]
     },
     "execution_count": 54,
     "metadata": {},
     "output_type": "execute_result"
    }
   ],
   "source": [
    "predicted_state"
   ]
  },
  {
   "cell_type": "code",
   "execution_count": 55,
   "metadata": {},
   "outputs": [],
   "source": [
    "prediction_2016 =np.array([30,  0,  0, 35, 35, 25, 35, 30, 25,  0, 25, 25, 35, 35, 25,  0, 25,\n",
    "        0, 25, 35, 43, 30, 25, 35, 25,  0, 35, 43, 30, 35, 25, 25, 35, 35,\n",
    "       30, 35,  0, 25, 35, 43, 25, 43, 25, 25, 25, 43, 25, 43, 35, 43, 43,\n",
    "       35, 25, 25, 35, 35, 35, 25, 25, 35, 25,  0, 35, 25,  0,  0, 35,  0,\n",
    "       25, 35, 35,  0,  0, 25, 35,  0, 35,  0,  0,  0, 25, 35,  0, 25,25])"
   ]
  },
  {
   "cell_type": "code",
   "execution_count": 56,
   "metadata": {},
   "outputs": [],
   "source": [
    "prediction_2015 = np.array([30,  0,  0, 30, 30, 35, 30, 30, 35,  0, 35, 35, 30, 30, 35,  0, 35,\n",
    "        0, 35, 30, 35, 30, 35, 30, 35,  0, 30, 35, 30, 30, 35, 35, 30, 30,\n",
    "       30, 30,  0, 35, 30, 35, 35, 35, 35, 35, 35, 35, 35, 35, 30, 35, 35,\n",
    "       30, 35, 35, 30, 30, 30, 35, 35, 30, 35,  0, 30, 35,  0,  0, 30,  0,\n",
    "       35, 30, 30,  0,  0, 35, 30,  0, 30,  0,  0,  0, 35, 30,  0, 35, 35])"
   ]
  },
  {
   "cell_type": "code",
   "execution_count": 57,
   "metadata": {},
   "outputs": [],
   "source": [
    "prediction_2014 = np.array([43, 25, 35, 43, 35, 43, 43, 25, 25, 43, 35, 43, 35, 43, 25, 30, 35,\n",
    "       43, 19, 43, 35, 25, 35, 30, 25, 43, 43, 25, 19, 30, 25, 35, 43, 25,\n",
    "       35, 43, 30, 43, 43, 43, 30, 43, 30, 25, 30, 30, 25, 43, 43, 25, 19,\n",
    "       25, 43, 43, 19, 43, 35, 25, 43, 35, 35, 19, 35, 43, 25, 19, 35, 35,\n",
    "       43, 19, 35, 25, 35, 35, 35, 43, 25, 35, 43, 43, 43, 35, 35, 35, 35])"
   ]
  },
  {
   "cell_type": "code",
   "execution_count": 58,
   "metadata": {},
   "outputs": [],
   "source": [
    "average_pred = np.zeros(85)\n",
    "for i in range (85):\n",
    "    average_pred[i] = (0.25*prediction_2016[i]+0.25*prediction_2015[i]+0.25*prediction_2014[i]+0.25*predicted_state[i])"
   ]
  },
  {
   "cell_type": "code",
   "execution_count": 59,
   "metadata": {},
   "outputs": [
    {
     "data": {
      "text/plain": [
       "array([32.  , 12.5 , 13.5 , 33.25, 32.5 , 32.  , 33.25, 28.75, 27.5 ,\n",
       "       17.  , 31.25, 32.  , 33.75, 33.25, 27.5 , 15.  , 30.  , 17.  ,\n",
       "       26.  , 33.25, 37.  , 28.75, 32.5 , 31.25, 27.5 , 17.  , 33.25,\n",
       "       32.  , 26.  , 31.25, 28.75, 32.5 , 33.25, 28.75, 32.5 , 33.25,\n",
       "       15.  , 32.  , 33.25, 36.5 , 31.25, 36.5 , 30.  , 28.75, 31.25,\n",
       "       34.5 , 27.5 , 36.5 , 33.25, 32.  , 30.5 , 30.  , 32.  , 32.  ,\n",
       "       27.25, 33.25, 32.5 , 28.75, 32.  , 32.5 , 32.5 , 11.  , 32.5 ,\n",
       "       32.  , 12.5 , 11.  , 33.75, 16.25, 32.  , 27.25, 33.75, 12.5 ,\n",
       "       16.25, 32.5 , 33.75, 17.  , 28.75, 17.5 , 17.  , 17.  , 30.5 ,\n",
       "       33.75, 16.25, 31.25, 32.5 ])"
      ]
     },
     "execution_count": 59,
     "metadata": {},
     "output_type": "execute_result"
    }
   ],
   "source": [
    "average_pred"
   ]
  },
  {
   "cell_type": "code",
   "execution_count": 60,
   "metadata": {},
   "outputs": [
    {
     "ename": "NameError",
     "evalue": "name 'mean_absolute_error' is not defined",
     "output_type": "error",
     "traceback": [
      "\u001b[1;31m---------------------------------------------------------------------------\u001b[0m",
      "\u001b[1;31mNameError\u001b[0m                                 Traceback (most recent call last)",
      "\u001b[1;32m<ipython-input-60-cafc882ff4d2>\u001b[0m in \u001b[0;36m<module>\u001b[1;34m\u001b[0m\n\u001b[1;32m----> 1\u001b[1;33m \u001b[0mmean_absolute_error\u001b[0m\u001b[1;33m(\u001b[0m \u001b[0mnp\u001b[0m\u001b[1;33m.\u001b[0m\u001b[0marray\u001b[0m\u001b[1;33m(\u001b[0m\u001b[0mtest_data\u001b[0m\u001b[1;33m)\u001b[0m\u001b[1;33m,\u001b[0m\u001b[0mnp\u001b[0m\u001b[1;33m.\u001b[0m\u001b[0marray\u001b[0m\u001b[1;33m(\u001b[0m\u001b[0maverage_pred\u001b[0m\u001b[1;33m)\u001b[0m\u001b[1;33m)\u001b[0m\u001b[1;33m\u001b[0m\u001b[1;33m\u001b[0m\u001b[0m\n\u001b[0m",
      "\u001b[1;31mNameError\u001b[0m: name 'mean_absolute_error' is not defined"
     ]
    }
   ],
   "source": [
    " mean_absolute_error( np.array(test_data),np.array(average_pred))"
   ]
  },
  {
   "cell_type": "code",
   "execution_count": 62,
   "metadata": {},
   "outputs": [
    {
     "data": {
      "text/plain": [
       "-1.5029411764705882"
      ]
     },
     "execution_count": 62,
     "metadata": {},
     "output_type": "execute_result"
    }
   ],
   "source": [
    "np.sum(test_data-average_pred)/85"
   ]
  },
  {
   "cell_type": "code",
   "execution_count": 63,
   "metadata": {},
   "outputs": [],
   "source": [
    "for i in range(85):\n",
    "    average_pred[i]+=(-1.502)"
   ]
  },
  {
   "cell_type": "code",
   "execution_count": 65,
   "metadata": {},
   "outputs": [],
   "source": [
    "from sklearn.metrics import mean_absolute_error"
   ]
  },
  {
   "cell_type": "code",
   "execution_count": 66,
   "metadata": {},
   "outputs": [
    {
     "data": {
      "text/plain": [
       "6.1967058823529415"
      ]
     },
     "execution_count": 66,
     "metadata": {},
     "output_type": "execute_result"
    }
   ],
   "source": [
    " mean_absolute_error( np.array(test_data),np.array(average_pred))"
   ]
  },
  {
   "cell_type": "code",
   "execution_count": 361,
   "metadata": {},
   "outputs": [
    {
     "data": {
      "text/plain": [
       "Text(0, 0.5, 'sales')"
      ]
     },
     "execution_count": 361,
     "metadata": {},
     "output_type": "execute_result"
    },
    {
     "data": {
      "image/png": "[encoded data removed]",
      "text/plain": [
       "<Figure size 432x288 with 1 Axes>"
      ]
     },
     "metadata": {
      "needs_background": "light"
     },
     "output_type": "display_data"
    }
   ],
   "source": [
    "fig, ax = plt.subplots()\n",
    "ax.plot(test_data)\n",
    "ax.plot(average_pred)\n",
    "plt.xlabel('days')\n",
    "plt.ylabel('sales')"
   ]
  },
  {
   "cell_type": "markdown",
   "metadata": {},
   "source": [
    "# Thank You !!!"
   ]
  }
 ],
 "metadata": {
  "kernelspec": {
   "display_name": "Python 3",
   "language": "python",
   "name": "python3"
  },
  "language_info": {
   "codemirror_mode": {
    "name": "ipython",
    "version": 3
   },
   "file_extension": ".py",
   "mimetype": "text/x-python",
   "name": "python",
   "nbconvert_exporter": "python",
   "pygments_lexer": "ipython3",
   "version": "3.7.3"
  }
 },
 "nbformat": 4,
 "nbformat_minor": 2
}
